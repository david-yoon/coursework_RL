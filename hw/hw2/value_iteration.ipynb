{
 "cells": [
  {
   "cell_type": "code",
   "execution_count": 181,
   "metadata": {
    "collapsed": true
   },
   "outputs": [],
   "source": [
    "import numpy as np"
   ]
  },
  {
   "cell_type": "code",
   "execution_count": 180,
   "metadata": {
    "collapsed": false
   },
   "outputs": [],
   "source": [
    "def grid_print(input):\n",
    "    tmp = np.zeros([4,4], dtype=np.float32)\n",
    "    for i in range(4):\n",
    "        for j in range(4):\n",
    "            tmp[i][j] = math.floor(input[i][j]*10)/10\n",
    "    print(tmp)"
   ]
  },
  {
   "cell_type": "code",
   "execution_count": 186,
   "metadata": {
    "collapsed": false
   },
   "outputs": [
    {
     "name": "stdout",
     "output_type": "stream",
     "text": [
      "k= 10\n",
      "[[ 0.  -5.8 -7.9 -8.3]\n",
      " [-5.8 -7.5 -8.1 -7.9]\n",
      " [-7.9 -8.1 -7.5 -5.8]\n",
      " [-8.3 -7.9 -5.8  0. ]]\n",
      "k= 100\n",
      "[[  0.  -11.  -15.5 -16.5]\n",
      " [-11.  -14.5 -16.  -15.5]\n",
      " [-15.5 -16.  -14.5 -11. ]\n",
      " [-16.5 -15.5 -11.    0. ]]\n"
     ]
    }
   ],
   "source": [
    "gridworld = np.zeros([4,4], dtype=np.float32)\n",
    "# print('k=0')\n",
    "# grid_print(gridworld)\n",
    "\n",
    "gridworld[:][:] = -1\n",
    "gridworld[0][0] = 0\n",
    "gridworld[3][3] = 0\n",
    "# print('k=1')\n",
    "# grid_print(gridworld)\n",
    "\n",
    "for idx in range(105): \n",
    "    next_grid = np.zeros([4,4], dtype=np.float32)\n",
    "    \n",
    "    for i in range(4):\n",
    "        for j in range(4):\n",
    "            right, left, up, down, num_next_state = 0.0, 0.0, 0.0, 0.0, 0.0\n",
    "            if (j < 3) : \n",
    "                right = gridworld[i][j+1]\n",
    "                num_next_state = num_next_state + 1\n",
    "            if (j > 0) : \n",
    "                left = gridworld[i][j-1]\n",
    "                num_next_state = num_next_state + 1\n",
    "            if (i > 0) :\n",
    "                up = gridworld[i-1][j]\n",
    "                num_next_state = num_next_state + 1\n",
    "            if (i < 3 ) :\n",
    "                down = gridworld[i+1][j]\n",
    "                num_next_state = num_next_state + 1\n",
    "            next_grid[i][j] = (-1.0+(right+left+up+down)/num_next_state)\n",
    "    next_grid[0][0] = 0\n",
    "    next_grid[3][3] = 0\n",
    "    \n",
    "    gridworld = next_grid\n",
    "\n",
    "#     print('k=', idx+2)\n",
    "#     grid_print(gridworld)\n",
    "    \n",
    "    if (idx+2) == 10:\n",
    "        print('k=', idx+2)\n",
    "        grid_print(gridworld)\n",
    "        \n",
    "    if (idx+2) == 100:\n",
    "        print('k=', idx+2)\n",
    "        grid_print(gridworld)\n",
    "    "
   ]
  },
  {
   "cell_type": "code",
   "execution_count": null,
   "metadata": {
    "collapsed": true
   },
   "outputs": [],
   "source": []
  }
 ],
 "metadata": {
  "anaconda-cloud": {},
  "kernelspec": {
   "display_name": "Python [conda env:tf14_p35]",
   "language": "python",
   "name": "conda-env-tf14_p35-py"
  },
  "language_info": {
   "codemirror_mode": {
    "name": "ipython",
    "version": 3
   },
   "file_extension": ".py",
   "mimetype": "text/x-python",
   "name": "python",
   "nbconvert_exporter": "python",
   "pygments_lexer": "ipython3",
   "version": "3.5.4"
  }
 },
 "nbformat": 4,
 "nbformat_minor": 2
}
